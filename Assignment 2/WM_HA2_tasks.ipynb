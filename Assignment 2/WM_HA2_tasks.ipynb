{
 "cells": [
  {
   "cell_type": "markdown",
   "metadata": {},
   "source": [
    "# Web-Mining - Assignment 2 (25 points total)\n",
    "\n",
    "This **Home Assignment** is to be submitted and you will be given points for each of the tasks. It familiarizes you with basics of Markov Chain and link prediction on graphs.\n",
    "You can expect the following packages to be installed: request, numpy, pandas, networkx and of course the python standard library.\n",
    "\n",
    "## Formalities\n",
    "**Submit in a group of 3-4 people until 08.06.2021 23:59CET. The deadline is strict!**\n",
    "\n",
    "## Evaluation and Grading\n",
    "General advice for programming excercises at *CSSH*:\n",
    "Evaluation of your submission is done semi automatically. Think of it as this notebook being \n",
    "executed once. Afterwards, some test functions are appended to this file and executed respectively.\n",
    "\n",
    "Therefore:\n",
    "* Submit valid _Python3_ code only!\n",
    "* Use external libraries only when specified by task.\n",
    "* Ensure your definitions (functions, classes, methods, variables) follow the specification if\n",
    "  given. The concrete signature of e.g. a function usually can be inferred from task description, \n",
    "  code skeletons and test cases.\n",
    "* Ensure the notebook does not rely on current notebook or system state!\n",
    "  * Use `Kernel --> Restart & Run All` to see if you are using any definitions, variables etc. that \n",
    "    are not in scope anymore.\n",
    "  * Double check if your code relies on presence of files or directories other than those mentioned\n",
    "    in given tasks. Tests run under Linux, hence don't use Windows style paths \n",
    "    (`some\\path`, `C:\\another\\path`). Also, use paths only that are relative to and within your\n",
    "    working directory (OK: `some/path`, `./some/path`; NOT OK: `/home/alice/python`, \n",
    "    `../../python`).\n",
    "* Keep your code idempotent! Running it or parts of it multiple times must not yield different\n",
    "  results. Minimize usage of global variables.\n",
    "* Ensure your code / notebook terminates in reasonable time.\n",
    "\n",
    "**There's a story behind each of these points! Don't expect us to fix your stuff!**\n",
    "\n",
    "Regarding the scores, you will get no points for a task if:\n",
    "- your function throws an unexpected error (e.g. takes the wrong number of arguments)\n",
    "- gets stuck in an infinite loop\n",
    "- takes much much longer than expected (e.g. >1s to compute the mean of two numbers)\n",
    "- does not produce the desired output (e.g. returns an descendingly sorted list even though we asked for ascending, returns the mean and the std even though we asked for only the mean, prints an output instead of returning it, ...)"
   ]
  },
  {
   "cell_type": "code",
   "execution_count": 1,
   "metadata": {},
   "outputs": [],
   "source": [
    "# credentials of all team members (you may add or remove items from the dictionary)\n",
    "team_members = [\n",
    "    {\n",
    "        'first_name': 'Seyed Pouria',\n",
    "        'last_name': 'Mirelmi',\n",
    "        'student_id': 416910\n",
    "    },\n",
    "    {\n",
    "        'first_name': 'Pruthvi',\n",
    "        'last_name': 'Hegde',\n",
    "        'student_id': 404809\n",
    "    },\n",
    "    {\n",
    "        'first_name': 'Haron',\n",
    "        'last_name': 'Nqiri',\n",
    "        'student_id': 343289\n",
    "    },\n",
    "    {\n",
    "        'first_name': 'Mike',\n",
    "        'last_name': 'Grüne',\n",
    "        'student_id': 381076\n",
    "    }\n",
    "]"
   ]
  },
  {
   "cell_type": "code",
   "execution_count": 2,
   "metadata": {},
   "outputs": [],
   "source": [
    "from typing import List, Tuple, Generator, Dict, Set"
   ]
  },
  {
   "cell_type": "markdown",
   "metadata": {},
   "source": [
    "## Task 1: Markov chains (15 points total)\n",
    "\n",
    "For this task you are only allowed to use numpy and pandas. For this task always include the RESET states.\n",
    "\n",
    "#### Information: data structures for this assignment:\n",
    "A *state* or *item* is always given by a string.\n",
    "A sequence is given (or should be implemented as) a list of states (strings).\n",
    "\n",
    "Example:\n",
    "\n",
    "```sequence = [\"a\", \"c\", \"b\", \"a\"]```\n",
    "\n",
    "```list_of_sequences =  [[\"a\"], [\"a\", \"b\", \"c\"], [\"a\", \"c\"], [\"c\"]]```\n",
    "\n",
    "We usually refer to a list of sequences as just `sequences`\n",
    "\n",
    "### Task 1a: Transitions generator (2)\n",
    "Write a function `generate_transitions(sequences, order, include_RESET=True)` that loops over each of the sequences in the provided list of sequences and `yield`s one transition after another. A transition is a tuple where the first element is a tuple containing the relevant history (i.e. one element for order 1, two elements for order two ...). The second element is the next state. Whether reset states should be included can be specified through `include_RESET`. Use `\"RESET\"` as the indicating string of the reset state (you can assume this string does not occur in the data otherwise). If a sequence is shorter than order + 1 and include_RESET = False, omit that sequence.\n"
   ]
  },
  {
   "cell_type": "code",
   "execution_count": 3,
   "metadata": {},
   "outputs": [],
   "source": [
    "from collections import defaultdict, Counter\n",
    "from itertools import chain\n",
    "import itertools\n",
    "import numpy as np"
   ]
  },
  {
   "cell_type": "code",
   "execution_count": 4,
   "metadata": {},
   "outputs": [],
   "source": [
    "def generate_transitions(sequences : List[List[str]], \n",
    "                         order : int, \n",
    "                         include_RESET=True) -> Generator[Tuple[Tuple[str], Tuple], None, None]:\n",
    "    \n",
    "    for i in sequences:\n",
    "        myseq = i.copy()\n",
    "        if include_RESET and order > 0 :\n",
    "            myseq.append (\"RESET\")\n",
    "            for j in range(order):\n",
    "                myseq.insert(0,\"RESET\")\n",
    "        \n",
    "        for k in range(len(myseq)-order):\n",
    "            trans = tuple([tuple(myseq[k:k+order]), myseq[k+order]])\n",
    "            yield trans\n",
    "    \n",
    "    \n",
    "    return []\n"
   ]
  },
  {
   "cell_type": "code",
   "execution_count": 5,
   "metadata": {},
   "outputs": [
    {
     "data": {
      "text/plain": [
       "<generator object generate_transitions at 0x000001DA5AF65AC8>"
      ]
     },
     "execution_count": 5,
     "metadata": {},
     "output_type": "execute_result"
    }
   ],
   "source": [
    "test_sequences = [[\"a\", \"b\"]]\n",
    "generate_transitions(test_sequences, 1)\n",
    "# <generator object generate_transitions at ...>"
   ]
  },
  {
   "cell_type": "code",
   "execution_count": 6,
   "metadata": {},
   "outputs": [
    {
     "name": "stdout",
     "output_type": "stream",
     "text": [
      "[(('RESET',), 'a'), (('a',), 'b'), (('b',), 'RESET')]\n",
      "[(('a',), 'b')]\n",
      "[(('RESET', 'RESET'), 'a'), (('RESET', 'a'), 'b'), (('a', 'b'), 'RESET')]\n",
      "[(('RESET',), 'a'), (('a',), 'RESET'), (('RESET',), 'b'), (('b',), 'RESET')]\n",
      "[]\n",
      "[(('a',), 'a'), (('a',), 'a'), (('a',), 'c'), (('b',), 'b'), (('b',), 'b')]\n"
     ]
    }
   ],
   "source": [
    "test_sequences = [[\"a\", \"b\"]]\n",
    "print(list(generate_transitions(test_sequences, 1)))\n",
    "# [(('RESET',), 'a'), (('a',), 'b'), (('b',), 'RESET')]\n",
    "\n",
    "\n",
    "test_sequences = [[\"a\", \"b\"]]\n",
    "print(list(generate_transitions(test_sequences, 1, include_RESET=False )))\n",
    "# [(('a',), 'b')]\n",
    "\n",
    "\n",
    "print(list(generate_transitions(test_sequences, 2)))\n",
    "# [(('RESET', 'RESET'), 'a'), (('RESET', 'a'), 'b'), (('a', 'b'), 'RESET')]\n",
    "\n",
    "\n",
    "test_sequences = [[\"a\"], [\"b\"]]\n",
    "print(list(generate_transitions(test_sequences, 1)))\n",
    "# [(('RESET',), 'a'), (('a',), 'RESET'), (('RESET',), 'b'), (('b',), 'RESET')]\n",
    "\n",
    "\n",
    "test_sequences = [[\"a\", \"c\"], [\"b\"]]\n",
    "print(list(generate_transitions(test_sequences, 2, include_RESET=False)))\n",
    "# []\n",
    "\n",
    "# multiple repeated transitions\n",
    "test_sequences = [[\"a\", \"a\", \"a\", \"c\"], [\"b\", \"b\", \"b\"]]\n",
    "print(list(generate_transitions(test_sequences, 1, include_RESET=False)))\n",
    "# [(('a',), 'a'), (('a',), 'a'), (('a',), 'c'), (('b',), 'b'), (('b',), 'b')]"
   ]
  },
  {
   "cell_type": "markdown",
   "metadata": {},
   "source": [
    "\n",
    "\n",
    "### Task 1b: Fitting the model (4)\n",
    "Implement the function `fit_mc(sequences, order, include_RESET=True)` that fits a Markov chain of a specific order to the given input of a list of sequences.\n",
    "The function should return \n",
    "* sparse transition probability \"matrix\" (`dict` of `defaultdict(float)`)\n",
    "* set of all states\n",
    "\n",
    "Thereby use the function defined in a). You might want to implement c) first so you have some nice debugging visualization."
   ]
  },
  {
   "cell_type": "code",
   "execution_count": 7,
   "metadata": {},
   "outputs": [],
   "source": [
    "def fit_mc(sequences : List[List[str]], \n",
    "           order : int, \n",
    "           include_RESET=True) -> (Dict[Tuple[str], defaultdict], Set[str]):\n",
    "    \n",
    "    myset = set({})\n",
    "    \n",
    "    for i in sequences:\n",
    "         for j in i:\n",
    "            myset.add(j)\n",
    "    if include_RESET:\n",
    "        myset.add(\"RESET\")\n",
    "    \n",
    "    d = defaultdict(list)\n",
    "    \n",
    "    sequences = list(generate_transitions (sequences, order, include_RESET))\n",
    "    \n",
    "    for k, v in sequences:\n",
    "        d[k].append(v)\n",
    "        \n",
    "    d = dict (d)\n",
    "    \n",
    "    for k in d.keys():\n",
    "        dt = defaultdict(float)\n",
    "        \n",
    "        for key in d[k]:\n",
    "            dt[key] += 1\n",
    "        \n",
    "        su = 0\n",
    "        for v in dt.values():\n",
    "            su = su + v\n",
    "            \n",
    "        for key in dt.keys():\n",
    "            dt[key] = dt[key]/su\n",
    "            \n",
    "        d[k] = dt\n",
    "    \n",
    "    return d, myset\n"
   ]
  },
  {
   "cell_type": "code",
   "execution_count": 8,
   "metadata": {},
   "outputs": [
    {
     "data": {
      "text/plain": [
       "({('RESET',): defaultdict(float, {'a': 0.75, 'c': 0.25}),\n",
       "  ('a',): defaultdict(float,\n",
       "              {'RESET': 0.3333333333333333,\n",
       "               'b': 0.3333333333333333,\n",
       "               'c': 0.3333333333333333}),\n",
       "  ('b',): defaultdict(float, {'c': 1.0}),\n",
       "  ('c',): defaultdict(float, {'RESET': 1.0})},\n",
       " {'RESET', 'a', 'b', 'c'})"
      ]
     },
     "execution_count": 8,
     "metadata": {},
     "output_type": "execute_result"
    }
   ],
   "source": [
    "# example usage\n",
    "fit_mc([[\"a\"], [\"a\", \"b\", \"c\"], [\"a\", \"c\"], [\"c\"]], 1)\n",
    "#({('RESET',): defaultdict(float, {'a': 0.75, 'c': 0.25}),\n",
    "#  ('a',): defaultdict(float,\n",
    "#              {'RESET': 0.3333333333333333,\n",
    "#               'b': 0.3333333333333333,\n",
    "#               'c': 0.3333333333333333}),\n",
    "#  ('b',): defaultdict(float, {'c': 1.0}),\n",
    "#  ('c',): defaultdict(float, {'RESET': 1.0})},\n",
    "#\n",
    "# {'RESET', 'a', 'b', 'c'})"
   ]
  },
  {
   "cell_type": "code",
   "execution_count": 9,
   "metadata": {},
   "outputs": [
    {
     "data": {
      "text/plain": [
       "({('a',): defaultdict(float, {'b': 0.5, 'c': 0.5}),\n",
       "  ('b',): defaultdict(float, {'c': 1.0})},\n",
       " {'a', 'b', 'c'})"
      ]
     },
     "execution_count": 9,
     "metadata": {},
     "output_type": "execute_result"
    }
   ],
   "source": [
    "fit_mc([[\"a\"], [\"a\", \"b\", \"c\"], [\"a\", \"c\"], [\"c\"]], 1, include_RESET=False)\n",
    "#({('a',): defaultdict(float, {'b': 0.5, 'c': 0.5}),\n",
    "#  ('b',): defaultdict(float, {'c': 1.0})},\n",
    "#\n",
    "# {'a', 'b', 'c'})\n",
    "\n",
    "# Notice that the two sequences which are of length 1 are ignored (kinda)"
   ]
  },
  {
   "cell_type": "code",
   "execution_count": null,
   "metadata": {},
   "outputs": [],
   "source": []
  },
  {
   "cell_type": "code",
   "execution_count": 10,
   "metadata": {},
   "outputs": [
    {
     "data": {
      "text/plain": [
       "({('RESET', 'RESET'): defaultdict(float, {'O': 0.6, 'B': 0.4}),\n",
       "  ('RESET', 'O'): defaultdict(float,\n",
       "              {'B': 0.3333333333333333, 'O': 0.6666666666666666}),\n",
       "  ('O', 'B'): defaultdict(float, {'B': 0.25, 'O': 0.25, 'RESET': 0.5}),\n",
       "  ('B', 'B'): defaultdict(float, {'O': 1.0}),\n",
       "  ('B', 'O'): defaultdict(float, {'RESET': 0.5, 'O': 0.5}),\n",
       "  ('O', 'O'): defaultdict(float, {'RESET': 0.2, 'O': 0.2, 'B': 0.6}),\n",
       "  ('RESET', 'B'): defaultdict(float, {'O': 0.5, 'B': 0.5})},\n",
       " {'B', 'O', 'RESET'})"
      ]
     },
     "execution_count": 10,
     "metadata": {},
     "output_type": "execute_result"
    }
   ],
   "source": [
    "test_sequences = [[\"O\", \"B\", \"B\", \"O\"],\n",
    "                  [\"O\", \"O\"],\n",
    "                  [\"B\", \"O\", \"O\", \"O\", \"B\", \"O\"],\n",
    "                  [\"B\", \"B\", \"O\", \"O\", \"B\"],\n",
    "                  [\"O\", \"O\", \"B\"]]\n",
    "fit_mc(test_sequences, 2)\n",
    "#({('RESET', 'RESET'): defaultdict(float, {'O': 0.6, 'B': 0.4}),\n",
    "#  ('RESET', 'O'): defaultdict(float,\n",
    "#              {'B': 0.3333333333333333, 'O': 0.6666666666666666}),\n",
    "#  ('O', 'B'): defaultdict(float, {'B': 0.25, 'O': 0.25, 'RESET': 0.5}),\n",
    "#  ('B', 'B'): defaultdict(float, {'O': 1.0}),\n",
    "#  ('B', 'O'): defaultdict(float, {'RESET': 0.5, 'O': 0.5}),\n",
    "#  ('O', 'O'): defaultdict(float, {'RESET': 0.2, 'O': 0.2, 'B': 0.6}),\n",
    "#  ('RESET', 'B'): defaultdict(float, {'O': 0.5, 'B': 0.5})},\n",
    "# {'B', 'O', 'RESET'})"
   ]
  },
  {
   "cell_type": "code",
   "execution_count": 11,
   "metadata": {},
   "outputs": [
    {
     "data": {
      "text/plain": [
       "({('RESET', 'RESET'): defaultdict(float, {'y': 1.0}),\n",
       "  ('RESET', 'y'): defaultdict(float, {'y': 1.0}),\n",
       "  ('y', 'y'): defaultdict(float, {'y': 0.6, 'b': 0.2, 'RESET': 0.2}),\n",
       "  ('y', 'b'): defaultdict(float, {'b': 0.5, 'y': 0.5}),\n",
       "  ('b', 'b'): defaultdict(float, {'y': 1.0}),\n",
       "  ('b', 'y'): defaultdict(float, {'b': 0.5, 'y': 0.5})},\n",
       " {'RESET', 'b', 'y'})"
      ]
     },
     "execution_count": 11,
     "metadata": {},
     "output_type": "execute_result"
    }
   ],
   "source": [
    "example = [[\"y\", \"y\", \"y\", \"b\", \"b\", \"y\", \"b\", \"y\", \"y\", \"y\", \"y\"]]\n",
    "fit_mc([[\"y\", \"y\", \"y\", \"b\", \"b\", \"y\", \"b\", \"y\", \"y\", \"y\", \"y\"]], 2)\n",
    "#({('RESET', 'RESET'): defaultdict(float, {'y': 1.0}),\n",
    "#  ('RESET', 'y'): defaultdict(float, {'y': 1.0}),\n",
    "#  ('y', 'y'): defaultdict(float, {'y': 0.6, 'b': 0.2, 'RESET': 0.2}),\n",
    "#  ('y', 'b'): defaultdict(float, {'b': 0.5, 'y': 0.5}),\n",
    "#  ('b', 'b'): defaultdict(float, {'y': 1.0}),\n",
    "#  ('b', 'y'): defaultdict(float, {'b': 0.5, 'y': 0.5})},\n",
    "# {'RESET', 'b', 'y'})"
   ]
  },
  {
   "cell_type": "markdown",
   "metadata": {},
   "source": [
    "### Task 1c): to_dense (1)\n",
    "Write a function which converts the sparse representation of the Markov chain from b) into a dense one for better visibility.\n",
    "The output should be a pandas DataFrame where the index are the past states and columns are the output states.\n",
    "Finally, sort the index of the DataFrame using `sort_index()` and `sort_index(axis=1)`\n",
    "\n",
    "Hint: pandas has the nice function `fillna`."
   ]
  },
  {
   "cell_type": "code",
   "execution_count": 12,
   "metadata": {},
   "outputs": [],
   "source": [
    "import pandas as pd"
   ]
  },
  {
   "cell_type": "code",
   "execution_count": 13,
   "metadata": {},
   "outputs": [],
   "source": [
    "def to_dense(sparse_mc : Dict[Tuple[str], defaultdict]) -> pd.DataFrame:\n",
    "    return pd.DataFrame().from_dict(sparse_mc).fillna(0).T.sort_index().sort_index(axis=1)"
   ]
  },
  {
   "cell_type": "code",
   "execution_count": 14,
   "metadata": {},
   "outputs": [
    {
     "data": {
      "text/html": [
       "<div>\n",
       "<style scoped>\n",
       "    .dataframe tbody tr th:only-of-type {\n",
       "        vertical-align: middle;\n",
       "    }\n",
       "\n",
       "    .dataframe tbody tr th {\n",
       "        vertical-align: top;\n",
       "    }\n",
       "\n",
       "    .dataframe thead th {\n",
       "        text-align: right;\n",
       "    }\n",
       "</style>\n",
       "<table border=\"1\" class=\"dataframe\">\n",
       "  <thead>\n",
       "    <tr style=\"text-align: right;\">\n",
       "      <th></th>\n",
       "      <th></th>\n",
       "      <th>RESET</th>\n",
       "      <th>a</th>\n",
       "      <th>b</th>\n",
       "      <th>c</th>\n",
       "    </tr>\n",
       "  </thead>\n",
       "  <tbody>\n",
       "    <tr>\n",
       "      <th rowspan=\"3\" valign=\"top\">RESET</th>\n",
       "      <th>RESET</th>\n",
       "      <td>0.0</td>\n",
       "      <td>0.75</td>\n",
       "      <td>0.000000</td>\n",
       "      <td>0.250000</td>\n",
       "    </tr>\n",
       "    <tr>\n",
       "      <th>a</th>\n",
       "      <td>0.0</td>\n",
       "      <td>0.00</td>\n",
       "      <td>0.333333</td>\n",
       "      <td>0.666667</td>\n",
       "    </tr>\n",
       "    <tr>\n",
       "      <th>c</th>\n",
       "      <td>0.0</td>\n",
       "      <td>0.00</td>\n",
       "      <td>1.000000</td>\n",
       "      <td>0.000000</td>\n",
       "    </tr>\n",
       "    <tr>\n",
       "      <th rowspan=\"2\" valign=\"top\">a</th>\n",
       "      <th>b</th>\n",
       "      <td>0.0</td>\n",
       "      <td>0.00</td>\n",
       "      <td>0.000000</td>\n",
       "      <td>1.000000</td>\n",
       "    </tr>\n",
       "    <tr>\n",
       "      <th>c</th>\n",
       "      <td>0.0</td>\n",
       "      <td>0.00</td>\n",
       "      <td>0.500000</td>\n",
       "      <td>0.500000</td>\n",
       "    </tr>\n",
       "    <tr>\n",
       "      <th rowspan=\"2\" valign=\"top\">b</th>\n",
       "      <th>b</th>\n",
       "      <td>0.0</td>\n",
       "      <td>0.00</td>\n",
       "      <td>0.000000</td>\n",
       "      <td>1.000000</td>\n",
       "    </tr>\n",
       "    <tr>\n",
       "      <th>c</th>\n",
       "      <td>1.0</td>\n",
       "      <td>0.00</td>\n",
       "      <td>0.000000</td>\n",
       "      <td>0.000000</td>\n",
       "    </tr>\n",
       "    <tr>\n",
       "      <th rowspan=\"2\" valign=\"top\">c</th>\n",
       "      <th>b</th>\n",
       "      <td>0.5</td>\n",
       "      <td>0.00</td>\n",
       "      <td>0.500000</td>\n",
       "      <td>0.000000</td>\n",
       "    </tr>\n",
       "    <tr>\n",
       "      <th>c</th>\n",
       "      <td>1.0</td>\n",
       "      <td>0.00</td>\n",
       "      <td>0.000000</td>\n",
       "      <td>0.000000</td>\n",
       "    </tr>\n",
       "  </tbody>\n",
       "</table>\n",
       "</div>"
      ],
      "text/plain": [
       "             RESET     a         b         c\n",
       "RESET RESET    0.0  0.75  0.000000  0.250000\n",
       "      a        0.0  0.00  0.333333  0.666667\n",
       "      c        0.0  0.00  1.000000  0.000000\n",
       "a     b        0.0  0.00  0.000000  1.000000\n",
       "      c        0.0  0.00  0.500000  0.500000\n",
       "b     b        0.0  0.00  0.000000  1.000000\n",
       "      c        1.0  0.00  0.000000  0.000000\n",
       "c     b        0.5  0.00  0.500000  0.000000\n",
       "      c        1.0  0.00  0.000000  0.000000"
      ]
     },
     "execution_count": 14,
     "metadata": {},
     "output_type": "execute_result"
    }
   ],
   "source": [
    "# example usage\n",
    "sparse_mc1, all_items1 = fit_mc([[\"a\",\"c\",\"c\"], [\"a\", \"b\", \"c\"], [\"a\", \"c\",\"b\"], [\"c\",\"b\",\"b\",\"c\"]], 2)\n",
    "df = to_dense(sparse_mc1)\n",
    "df"
   ]
  },
  {
   "cell_type": "code",
   "execution_count": 15,
   "metadata": {},
   "outputs": [
    {
     "name": "stdout",
     "output_type": "stream",
     "text": [
      "             RESET     a         b         c\n",
      "RESET RESET    0.0  0.75  0.000000  0.250000\n",
      "      a        0.0  0.00  0.333333  0.666667\n",
      "      c        0.0  0.00  1.000000  0.000000\n",
      "a     b        0.0  0.00  0.000000  1.000000\n",
      "      c        0.0  0.00  0.500000  0.500000\n",
      "b     b        0.0  0.00  0.000000  1.000000\n",
      "      c        1.0  0.00  0.000000  0.000000\n",
      "c     b        0.5  0.00  0.500000  0.000000\n",
      "      c        1.0  0.00  0.000000  0.000000\n"
     ]
    }
   ],
   "source": [
    "print(df)\n",
    "#             RESET     a         b         c\n",
    "#RESET RESET    0.0  0.75  0.000000  0.250000\n",
    "#      a        0.0  0.00  0.333333  0.666667\n",
    "#      c        0.0  0.00  1.000000  0.000000\n",
    "#a     b        0.0  0.00  0.000000  1.000000\n",
    "#      c        0.0  0.00  0.500000  0.500000\n",
    "#b     b        0.0  0.00  0.000000  1.000000\n",
    "#      c        1.0  0.00  0.000000  0.000000\n",
    "#c     b        0.5  0.00  0.500000  0.000000\n",
    "#      c        1.0  0.00  0.000000  0.000000"
   ]
  },
  {
   "cell_type": "markdown",
   "metadata": {},
   "source": [
    "### Task 1d: Comparing Markov Models (3)\n",
    "Implement three functions\n",
    "* `log_likelihood(sequences, sparse_mc)`\n",
    "* `AIC(sequences, sparse_mc, all_states)`\n",
    "* `BIC(sequences, sparse_mc, all_states)`\n",
    "\n",
    "That compute the log likelihood (sum of log of transition probabilities), AIC and BIC scores for the provided sequences given the Markov model specified through the sparse Markov chain representation `sparse_mc`. `all_states` defines the set of all states. Use the natural logarithm.\n",
    "When calculating the log_likelihood skip transitions that have not been observed. Find out on your own whether reset states are included in the model provided."
   ]
  },
  {
   "cell_type": "code",
   "execution_count": 16,
   "metadata": {},
   "outputs": [],
   "source": [
    "def get_degrees_freedom(n : int, order : int, include_RESET = True):\n",
    "    \"\"\"\n",
    "    n : number of states excluding(!) the RESET state\n",
    "    \"\"\"\n",
    "    if include_RESET == False:\n",
    "        return n ** order * (n - 1)\n",
    "    else:\n",
    "        out = 0\n",
    "        # not_RESET = number of past states not RESET\n",
    "        for not_RESET in range(order + 1):\n",
    "            # past   \\in (R, ..., R, X, ..., X) | n ** not_RESET terms\n",
    "            # future \\in {A-Z, R} | n terms\n",
    "\n",
    "            out += n ** not_RESET * n\n",
    "        return out"
   ]
  },
  {
   "cell_type": "code",
   "execution_count": 17,
   "metadata": {},
   "outputs": [
    {
     "data": {
      "text/plain": [
       "90"
      ]
     },
     "execution_count": 17,
     "metadata": {},
     "output_type": "execute_result"
    }
   ],
   "source": [
    "get_degrees_freedom(10, 1, include_RESET=False)"
   ]
  },
  {
   "cell_type": "code",
   "execution_count": 18,
   "metadata": {},
   "outputs": [],
   "source": [
    "def log_likelihood(sequences : List[List[str]], \n",
    "                   sparse_mc : Dict[Tuple[str], defaultdict]) -> float:\n",
    "    order = len(list(sparse_mc.keys())[0])\n",
    "    include_RESET =  0 < sum(list(map(lambda k: 1 if k[0] == \"RESET\" else 0, sparse_mc.keys())))\n",
    "    trans = list(generate_transitions(sequences, order, include_RESET))\n",
    "    trans_c = Counter(trans)\n",
    "    likelihood = 0\n",
    "    for t in trans_c:\n",
    "        likelihood += (np.log(sparse_mc[t[0]].get(t[1])) * trans_c[t]) if t[0] in sparse_mc and sparse_mc[t[0]].get(t[1]) is not None else 0\n",
    "    return likelihood"
   ]
  },
  {
   "cell_type": "code",
   "execution_count": 19,
   "metadata": {},
   "outputs": [],
   "source": [
    "def AIC(sequences : List[List[str]], \n",
    "        sparse_mc : Dict[Tuple[str], defaultdict],\n",
    "        all_states : Set[str]) -> float:\n",
    "    include_RESET =  0 < sum(list(map(lambda k: 1 if k[0] == \"RESET\" else 0, sparse_mc.keys())))\n",
    "    order = len(list(sparse_mc.keys())[0])\n",
    "    \n",
    "    return 2*get_degrees_freedom(len(all_states) - (1 if \"RESET\" in all_states else 0), order, include_RESET) - 2* log_likelihood(sequences, sparse_mc)"
   ]
  },
  {
   "cell_type": "code",
   "execution_count": 20,
   "metadata": {},
   "outputs": [],
   "source": [
    "def BIC(sequences : List[List[str]], \n",
    "        sparse_mc : Dict[Tuple[str], defaultdict],\n",
    "        all_states : Set[str]) -> float:\n",
    "    include_RESET =  0 < sum(list(map(lambda k: 1 if k[0] == \"RESET\" else 0, sparse_mc.keys())))\n",
    "    order = len(list(sparse_mc.keys())[0])\n",
    "    no_inst = len(list(generate_transitions(sequences, order, include_RESET)))\n",
    "    \n",
    "    return np.log(no_inst)*get_degrees_freedom(len(all_states) - (1 if \"RESET\" in all_states else 0), order, include_RESET) - 2* log_likelihood(sequences, sparse_mc)"
   ]
  },
  {
   "cell_type": "code",
   "execution_count": 21,
   "metadata": {
    "scrolled": false
   },
   "outputs": [
    {
     "name": "stdout",
     "output_type": "stream",
     "text": [
      "# log 1 -13.618523174750226\n",
      "# log 2 -11.37203046491196\n",
      "# log 3 -9.020655207748483\n",
      "\n",
      "# AIC 1 39.23704634950045\n",
      "# AIC 2 50.74406092982392\n",
      "# AIC 3 21.183347464017316\n",
      "# AIC 4 46.041310415496966\n",
      "\n",
      "# BIC 1 44.23632641383775\n",
      "\n",
      "# BIC 2 62.40904774661095\n",
      "\n",
      "# BIC 3 22.7749285552108\n",
      "\n",
      "# BIC 4 56.8575525268539\n"
     ]
    }
   ],
   "source": [
    "# example usage\n",
    "example =  [[\"y\", \"y\", \"y\", \"b\", \"b\", \"y\", \"b\", \"y\", \"y\", \"y\", \"y\"], [\"y\", \"y\", \"y\", \"b\"]]\n",
    "example2 = [[\"y\", \"y\", \"y\", \"b\", \"R\", \"y\", \"b\", \"y\", \"y\", \"y\", \"y\"], [\"y\", \"y\", \"b\"]]\n",
    "\n",
    "print('# log 1', log_likelihood(example,  fit_mc(example, 1)[0]))\n",
    "print('# log 2', log_likelihood(example,  fit_mc(example, 2)[0]))\n",
    "print('# log 3', log_likelihood(example2, fit_mc(example, 2)[0]))\n",
    "# np.log was used might differ for math.log\n",
    "\n",
    "\n",
    "print()\n",
    "print('# AIC 1', AIC(example,  *fit_mc(example, 1)))\n",
    "print('# AIC 2', AIC(example,  *fit_mc(example, 2)))\n",
    "print('# AIC 3', AIC(example,  *fit_mc(example, 2, include_RESET=False)))\n",
    "print('# AIC 4', AIC(example2, *fit_mc(example, 2)))\n",
    "\n",
    "print()\n",
    "print('# BIC 1', BIC(example,  *fit_mc(example, 1)))\n",
    "print()\n",
    "print('# BIC 2', BIC(example,  *fit_mc(example, 2)))\n",
    "print()\n",
    "print('# BIC 3', BIC(example,  *fit_mc(example, 2, include_RESET=False)))\n",
    "print()\n",
    "print('# BIC 4', BIC(example2, *fit_mc(example, 2)))\n",
    "\n",
    "# log 1 -13.618523174750226\n",
    "# log 2 -11.37203046491196\n",
    "# log 3 -9.020655207748483\n",
    "\n",
    "# AIC 1 39.23704634950045\n",
    "# AIC 2 50.74406092982392\n",
    "# AIC 3 21.183347464017316\n",
    "# AIC 4 46.041310415496966\n",
    "\n",
    "# number_transitions = 17\n",
    "# BIC 1 44.23632641383775\n",
    "\n",
    "# number_transitions = 17\n",
    "# BIC 2 62.40904774661095\n",
    "\n",
    "# number_transitions = 11\n",
    "# BIC 3 22.7749285552108\n",
    "\n",
    "# number_transitions = 16\n",
    "# BIC 4 56.8575525268539"
   ]
  },
  {
   "cell_type": "markdown",
   "metadata": {},
   "source": [
    "### Task 1e: Apply your model \n",
    "\n",
    "#### e1) Load Sequences (3)\n",
    "Write a function `load_sequences(start, end)` that extracts the \"finished paths\" from the data published in https://snap.stanford.edu/data/wikispeedia.html. Download the data, do necessary preprocessing, clean up all the files and return the transitions as a list of sequences. Disregard the rest of the information like ip_hash, time... The start and end variable specify a starting token and an ending token.\n",
    "\n",
    "\n",
    "Do all of this task in code. Make sure you **read the comments** at the beginning of the `paths_finished.tsv` file. Do **not** download the wikipedia articles along. After you are done, remove all files that you created during the process.\n",
    "\n",
    "Replace the `<` tokens with a transition back to the previous state:\n",
    "```python\n",
    "\"14th_century;Renaissance;<;Leonardo_da_Vinci;Water;Rain;Cloud;<;<;Rainbow\"\n",
    "```\n",
    "Really means:\n",
    "```python\n",
    "['14th_century',\n",
    " 'Renaissance',\n",
    " '14th_century',\n",
    " 'Leonardo_da_Vinci',\n",
    " 'Water',\n",
    " 'Rain',\n",
    " 'Cloud',\n",
    " 'Rain',\n",
    " 'Water',\n",
    " 'Rainbow']\n",
    "```\n",
    "\n",
    "#### e2) Eval Dataset (2)\n",
    "Fit a first order and second order model to the sequences from `'Asteroid'` to `'Viking'`. According to AIC and BIC, which model fits the data better?  Make a clear statement (as text), which model is to be preferred. Store that string in the variable `better_model`, also write that string to `better_model.txt`. Make sure you mention the **AIC** and **BIC** scores you obtained in the text."
   ]
  },
  {
   "cell_type": "code",
   "execution_count": 22,
   "metadata": {},
   "outputs": [],
   "source": [
    "import requests\n",
    "import io\n",
    "import tarfile\n",
    "import pandas as pd\n",
    "import os\n",
    "import shutil"
   ]
  },
  {
   "cell_type": "code",
   "execution_count": 23,
   "metadata": {},
   "outputs": [],
   "source": [
    "#https://snap.stanford.edu/data/wikispeedia/wikispeedia_paths-and-graph.tar.gz\n",
    "def load_sequences(start : str, end: str) -> (List[List[str]], List[List[str]]):\n",
    "    r = requests.get(\"https://snap.stanford.edu/data/wikispeedia/wikispeedia_paths-and-graph.tar.gz\", stream=True)\n",
    "    with open(\"temp.tar.gz\", 'wb') as f:\n",
    "        f.write(r.raw.read())\n",
    "    tar = tarfile.open(\"temp.tar.gz\", \"r:gz\")\n",
    "    tar.extractall()\n",
    "    tar.close()\n",
    "    frame = pd.read_csv('./wikispeedia_paths-and-graph/paths_finished.tsv', sep='\\t', comment=\"#\", names=[\"hashedIpAddress\",\"timestamp\",\"durationInSec\",\"path\",\"rating\"])\n",
    "    shutil.rmtree(\"./wikispeedia_paths-and-graph\")\n",
    "    os.remove(\"temp.tar.gz\")\n",
    "    raw_paths = frame[\"path\"]\n",
    "    all_paths = []\n",
    "    selected = []\n",
    "    for r in raw_paths:\n",
    "        path = []\n",
    "        trace = []\n",
    "        i = 0\n",
    "        for s in r.split(\";\"):\n",
    "            if s == \"<\" and i > 1:\n",
    "                path.append(trace[-2])\n",
    "                trace = trace[:-1]\n",
    "                i -= 1\n",
    "            elif s != \"<\":\n",
    "                path.append(s)\n",
    "                trace.append(s)\n",
    "                i += 1\n",
    "        all_paths.append(path)\n",
    "        if path[0] == start and path[-1] == end:\n",
    "            selected.append(path)\n",
    "    \n",
    "    return [selected, all_paths]"
   ]
  },
  {
   "cell_type": "code",
   "execution_count": 24,
   "metadata": {},
   "outputs": [
    {
     "data": {
      "text/plain": [
       "6"
      ]
     },
     "execution_count": 24,
     "metadata": {},
     "output_type": "execute_result"
    }
   ],
   "source": [
    "apollo_paths, all_paths=load_sequences(\"Apollo\", \"Skiing\")\n",
    "len(apollo_paths)\n",
    "# 6"
   ]
  },
  {
   "cell_type": "code",
   "execution_count": 25,
   "metadata": {},
   "outputs": [
    {
     "name": "stdout",
     "output_type": "stream",
     "text": [
      "1043\n"
     ]
    }
   ],
   "source": [
    "viking_paths, all_paths=load_sequences(\"Asteroid\", \"Viking\")\n",
    "print(len(viking_paths))\n",
    "# 1043"
   ]
  },
  {
   "cell_type": "code",
   "execution_count": 26,
   "metadata": {},
   "outputs": [
    {
     "data": {
      "text/plain": [
       "[(('Asteroid', 'Viking'), 1043),\n",
       " (('Brain', 'Telephone'), 1040),\n",
       " (('Theatre', 'Zebra'), 905),\n",
       " (('Pyramid', 'Bean'), 642),\n",
       " (('Batman', 'Wood'), 148),\n",
       " (('Bird', 'Great_white_shark'), 138),\n",
       " (('Batman', 'The_Holocaust'), 119),\n",
       " (('Bird', 'Adolf_Hitler'), 107),\n",
       " (('Beer', 'Sun'), 99),\n",
       " (('Batman', 'Banana'), 69)]"
      ]
     },
     "execution_count": 26,
     "metadata": {},
     "output_type": "execute_result"
    }
   ],
   "source": [
    "# Find the most frequently visited starts and ends\n",
    "from collections import Counter\n",
    "Counter(map(lambda x: (x[0],x[-1]), all_paths)).most_common(10)\n",
    "#[(('Asteroid', 'Viking'), 1043),\n",
    "# (('Brain', 'Telephone'), 1040),\n",
    "# (('Theatre', 'Zebra'), 905),\n",
    "# (('Pyramid', 'Bean'), 642),\n",
    "# (('Batman', 'Wood'), 148),\n",
    "# (('Bird', 'Great_white_shark'), 138),\n",
    "# (('Batman', 'The_Holocaust'), 119),\n",
    "# (('Bird', 'Adolf_Hitler'), 107),\n",
    "# (('Beer', 'Sun'), 99),\n",
    "# (('Batman', 'Banana'), 69)]"
   ]
  },
  {
   "cell_type": "code",
   "execution_count": 27,
   "metadata": {},
   "outputs": [
    {
     "name": "stdout",
     "output_type": "stream",
     "text": [
      "# AIC for order 1 367691.0240090471\n",
      "# BIC for order 1 1592035.710648168\n",
      "# AIC for order 2 143308856.87445766\n",
      "# BIC for order 2 651414844.9659588\n"
     ]
    }
   ],
   "source": [
    "print('# AIC for order 1', AIC(viking_paths, *fit_mc(viking_paths, 1)))\n",
    "print('# BIC for order 1', BIC(viking_paths,  *fit_mc(viking_paths, 1)))\n",
    "print('# AIC for order 2', AIC(viking_paths, *fit_mc(viking_paths, 2)))\n",
    "print('# BIC for order 2', BIC(viking_paths,  *fit_mc(viking_paths, 2)))"
   ]
  },
  {
   "cell_type": "code",
   "execution_count": 28,
   "metadata": {},
   "outputs": [],
   "source": [
    "better_model = \"\"\"The Scores obtained were:\n",
    "AIC for order 1: 367691.0240090471\n",
    "BIC for order 1: 1592035.710648168\n",
    "AIC for order 2: 143308856.87445766\n",
    "BIC for order 2: 651414844.9659588\n",
    "So according to the obtained scores the order 1 models are better since their scores are lower. \n",
    "This might be because the scores also take a penalty into account for the (estimated) number of parameters. \n",
    "\"\"\"\n",
    "with open(\"better_model.txt\", 'w', encoding=\"utf-8\") as f:\n",
    "    f.write(better_model)"
   ]
  },
  {
   "cell_type": "markdown",
   "metadata": {},
   "source": [
    "# Task 2: Graphs (10 points)\n",
    "\n",
    "## 2a) Visualizing with graphs (2)\n",
    "\n",
    "\n",
    "Represent the sequences for `start, end = (\"Apollo\", \"Skiing\")` from previous task d) as a directed graph in networkx. Use one of the standard networkx drawing functions. Exclude the RESET states. Show the plot here in the notebook and also save it as `apollo_skiing.png`. Include the directions and the node labels. Make sure the labels are at least somewhat readable. Argue whether this is a good visualization. Save this argument in a variable `apollo_skiing` as a string. Also write it to a file `apollo_skiing.txt`.\n"
   ]
  },
  {
   "cell_type": "code",
   "execution_count": 29,
   "metadata": {},
   "outputs": [],
   "source": [
    "import networkx as nx\n",
    "import matplotlib.pyplot as plt"
   ]
  },
  {
   "cell_type": "code",
   "execution_count": 30,
   "metadata": {},
   "outputs": [
    {
     "data": {
      "image/png": "[encoded data removed]",
      "text/plain": [
       "<Figure size 1080x1080 with 1 Axes>"
      ]
     },
     "metadata": {},
     "output_type": "display_data"
    }
   ],
   "source": [
    "G = nx.DiGraph()\n",
    "lst = []\n",
    "for i in apollo_paths:\n",
    "    G.add_nodes_from(i)\n",
    "for i in apollo_paths:\n",
    "    for j in range(len(i)-1):\n",
    "        lst.append((i[j],i[j+1]))\n",
    "G.add_edges_from(lst)\n",
    "fig = plt.figure(figsize=(15,15))\n",
    "nx.draw(G, with_labels=True, font_size=10, node_size=350, pos=nx.layout.planar_layout(G))"
   ]
  },
  {
   "cell_type": "code",
   "execution_count": 31,
   "metadata": {},
   "outputs": [],
   "source": [
    "fig.savefig(\"apollo_skiing.png\")"
   ]
  },
  {
   "cell_type": "code",
   "execution_count": 32,
   "metadata": {},
   "outputs": [],
   "source": [
    "apollo_skiing = \"This is not an optimal representation, but it is fine. The planar layout makes it suitable for detecting circles in the data and ensures that everything is recognizable and readable, but ideally one would use a more linear layout that makes it easier to recognize the start and end of the graph. Even though one can identify all neighbors, it is not easy to see that all paths start at Apollo and end at Skiing.\"\n",
    "with open(\"apollo_skiing.txt\", \"w\", encoding=\"utf-8\") as f:\n",
    "    f.write(apollo_skiing)"
   ]
  },
  {
   "cell_type": "markdown",
   "metadata": {},
   "source": [
    "## 2b) Classic link prediction metrics (4)\n",
    "\n",
    "In this task you should compute different metrics for link prediction. Do not use functions from networkx. Assume the graph you work on is undirected.\n",
    "\n",
    "Write the functions `Jaccard_link(A)`, `Adamic_Adar_link(A)` and `Katz_link(A, beta)`.\n",
    "The parameter A is a binary adjancency matrix of an undirected network (2d-numpy array), beta is defined in the lecture. They all return a matrix with the corresponding scores for all the nodes in the network.\n",
    "\n",
    "\n",
    "*Help for Katz:* Search/google for geometric series of matrices. Raise a ValueError if the provided `beta` is to large. Numpy can compute the inverse of matrices.\n",
    "\n",
    "The package networkx contains the Zachary’s Karate Club graph. It also contains functions that compute these link scores. You can use it for testing.\n"
   ]
  },
  {
   "cell_type": "code",
   "execution_count": 33,
   "metadata": {},
   "outputs": [],
   "source": [
    "import numpy as np\n",
    "import networkx as nx"
   ]
  },
  {
   "cell_type": "code",
   "execution_count": 34,
   "metadata": {},
   "outputs": [
    {
     "data": {
      "text/plain": [
       "array([[False,  True,  True, ...,  True, False, False],\n",
       "       [ True, False,  True, ..., False, False, False],\n",
       "       [ True,  True, False, ..., False,  True, False],\n",
       "       ...,\n",
       "       [ True, False, False, ..., False,  True,  True],\n",
       "       [False, False,  True, ...,  True, False,  True],\n",
       "       [False, False, False, ...,  True,  True, False]])"
      ]
     },
     "execution_count": 34,
     "metadata": {},
     "output_type": "execute_result"
    }
   ],
   "source": [
    "G = nx.karate_club_graph()\n",
    "A_karate = np.array(nx.adjacency_matrix(G).todense(),dtype=bool)\n",
    "A_karate"
   ]
  },
  {
   "cell_type": "markdown",
   "metadata": {},
   "source": [
    "### Jaccard (1)"
   ]
  },
  {
   "cell_type": "code",
   "execution_count": 35,
   "metadata": {},
   "outputs": [],
   "source": [
    "def Jaccard_link(A):\n",
    "    arr = np.zeros(A.shape)\n",
    "    num_rows, num_cols = arr.shape\n",
    "    for i in range(num_rows):\n",
    "        for j in range(num_cols):\n",
    "            if i != j:\n",
    "                arr[i,j] = np.sum(A[i, :] & A[j,:]) / np.sum(A[i, :] | A[j,:])\n",
    "    return arr"
   ]
  },
  {
   "cell_type": "code",
   "execution_count": 36,
   "metadata": {},
   "outputs": [
    {
     "data": {
      "text/plain": [
       "array([[0.        , 0.38888889, 0.23809524, 0.29411765, 0.11764706],\n",
       "       [0.38888889, 0.        , 0.26666667, 0.36363636, 0.09090909],\n",
       "       [0.23809524, 0.26666667, 0.        , 0.33333333, 0.08333333],\n",
       "       [0.29411765, 0.36363636, 0.33333333, 0.        , 0.125     ],\n",
       "       [0.11764706, 0.09090909, 0.08333333, 0.125     , 0.        ]])"
      ]
     },
     "execution_count": 36,
     "metadata": {},
     "output_type": "execute_result"
    }
   ],
   "source": [
    "# example usage\n",
    "Jaccard_karate = Jaccard_link(A_karate)\n",
    "Jaccard_karate[:5,:5]\n",
    "#array([[0.        , 0.38888889, 0.23809524, 0.29411765, 0.11764706],\n",
    "#       [0.38888889, 0.        , 0.26666667, 0.36363636, 0.09090909],\n",
    "#       [0.23809524, 0.26666667, 0.        , 0.33333333, 0.08333333],\n",
    "#       [0.29411765, 0.36363636, 0.33333333, 0.        , 0.125     ],\n",
    "#       [0.11764706, 0.09090909, 0.08333333, 0.125     , 0.        ]])\n",
    "\n"
   ]
  },
  {
   "cell_type": "markdown",
   "metadata": {},
   "source": [
    "### Adamic (1)"
   ]
  },
  {
   "cell_type": "code",
   "execution_count": 37,
   "metadata": {},
   "outputs": [],
   "source": [
    "def Adamic_link(A):\n",
    "    arr = np.zeros(A.shape)\n",
    "    num_rows, num_cols = arr.shape\n",
    "    for i in range(num_rows):\n",
    "        for j in range(num_cols):\n",
    "            if i != j:\n",
    "                value = 0;\n",
    "                for z in range(num_cols):\n",
    "                    if A[i,z] and A[j,z]:\n",
    "                        value += (1 / np.log(np.sum(A[z,:])))\n",
    "                arr[i,j] = value\n",
    "    return arr"
   ]
  },
  {
   "cell_type": "code",
   "execution_count": 38,
   "metadata": {},
   "outputs": [
    {
     "data": {
      "text/plain": [
       "array([[0.        , 6.13071687, 2.97724763, 3.67479159, 1.63158675],\n",
       "       [6.13071687, 0.        , 2.26146684, 2.1376507 , 0.36067376],\n",
       "       [2.97724763, 2.26146684, 0.        , 2.15847583, 0.36067376],\n",
       "       [3.67479159, 2.1376507 , 2.15847583, 0.        , 0.36067376],\n",
       "       [1.63158675, 0.36067376, 0.36067376, 0.36067376, 0.        ]])"
      ]
     },
     "execution_count": 38,
     "metadata": {},
     "output_type": "execute_result"
    }
   ],
   "source": [
    "Adamic_karate = Adamic_link(A_karate)\n",
    "Adamic_karate[:5,:5]\n",
    "\n",
    "#array([[0.        , 6.13071687, 2.97724763, 3.67479159, 1.63158675],\n",
    "#       [6.13071687, 0.        , 2.26146684, 2.1376507 , 0.36067376],\n",
    "#       [2.97724763, 2.26146684, 0.        , 2.15847583, 0.36067376],\n",
    "#       [3.67479159, 2.1376507 , 2.15847583, 0.        , 0.36067376],\n",
    "#       [1.63158675, 0.36067376, 0.36067376, 0.36067376, 0.        ]])"
   ]
  },
  {
   "cell_type": "markdown",
   "metadata": {},
   "source": [
    "### Katz (2)"
   ]
  },
  {
   "cell_type": "code",
   "execution_count": 39,
   "metadata": {},
   "outputs": [],
   "source": [
    "def Katz_link(A, beta):\n",
    "    eigen_max = max(np.linalg.eig(A)[0])\n",
    "    if beta >= 1/eigen_max: # networkx package\n",
    "        raise ValueError(str(beta) + ' is too large!')\n",
    "    eye = np.eye(len(A))\n",
    "    return np.linalg.inv(eye - beta * A) - eye"
   ]
  },
  {
   "cell_type": "code",
   "execution_count": 40,
   "metadata": {},
   "outputs": [
    {
     "data": {
      "text/plain": [
       "array([[0.2995883 , 0.27947083, 0.26738417, 0.24308784],\n",
       "       [0.27947083, 0.16957825, 0.23088253, 0.21168037],\n",
       "       [0.26738417, 0.23088253, 0.19102141, 0.21330788],\n",
       "       [0.24308784, 0.21168037, 0.21330788, 0.11670563]])"
      ]
     },
     "execution_count": 40,
     "metadata": {},
     "output_type": "execute_result"
    }
   ],
   "source": [
    "Katz_1 = Katz_link(A_karate, 0.1)\n",
    "Katz_1[:4, :4]"
   ]
  },
  {
   "cell_type": "code",
   "execution_count": 41,
   "metadata": {},
   "outputs": [
    {
     "data": {
      "text/plain": [
       "array([[0.2995883 , 0.27947083, 0.26738417, 0.24308784],\n",
       "       [0.27947083, 0.16957825, 0.23088253, 0.21168037],\n",
       "       [0.26738417, 0.23088253, 0.19102141, 0.21330788],\n",
       "       [0.24308784, 0.21168037, 0.21330788, 0.11670563]])"
      ]
     },
     "execution_count": 41,
     "metadata": {},
     "output_type": "execute_result"
    }
   ],
   "source": [
    "Katz_1 = Katz_link(A_karate, 0.1)\n",
    "Katz_1[:4, :4]\n",
    "#array([[0.2995883 , 0.27947083, 0.26738417, 0.24308784],\n",
    "#       [0.27947083, 0.16957825, 0.23088253, 0.21168037],\n",
    "#       [0.26738417, 0.23088253, 0.19102141, 0.21330788],\n",
    "#       [0.24308784, 0.21168037, 0.21330788, 0.11670563]]"
   ]
  },
  {
   "cell_type": "code",
   "execution_count": 42,
   "metadata": {},
   "outputs": [
    {
     "data": {
      "text/plain": [
       "array([[0.0481492 , 0.07453951, 0.07010033, 0.06877411],\n",
       "       [0.07453951, 0.02739842, 0.06603451, 0.06493847],\n",
       "       [0.07010033, 0.06603451, 0.03005164, 0.06485171],\n",
       "       [0.06877411, 0.06493847, 0.06485171, 0.01874642]])"
      ]
     },
     "execution_count": 42,
     "metadata": {},
     "output_type": "execute_result"
    }
   ],
   "source": [
    "# example usage\n",
    "Katz_2= Katz_link(A_karate, 0.05)\n",
    "Katz_2[:4, :4]\n",
    "\n",
    "#array([[0.0481492 , 0.07453951, 0.07010033, 0.06877411],\n",
    "#       [0.07453951, 0.02739842, 0.06603451, 0.06493847],\n",
    "#       [0.07010033, 0.06603451, 0.03005164, 0.06485171],\n",
    "#       [0.06877411, 0.06493847, 0.06485171, 0.01874642]])"
   ]
  },
  {
   "cell_type": "markdown",
   "metadata": {},
   "source": [
    "## 2c) Evaluate link prediction with mean inverse rank (4)\n",
    "\n",
    "To evaluate your link prediction we will use the mean inverse rank (sometimes also called mean reciprocal rank). The basic idea is that if you did a train/test split of the edges you rank the edges that are in the test set (and some set of random edges for comparison) according to the similarity score in descending order. Now for only the *test* edges you obtain the place at which each edge is in the ranking of edges. This is the rank = place+1 of the edge. You then calculate the mean of the inverse rank (1/rank) of all test edges.\n",
    "\n",
    "You would expect that if your ranking metric is able to properly rank the \"real\" test edges above the random edges, then it is a good ranking metric. If you take the mean inverse rank instead of just the mean rank you give more weight to high rank edges and less weight to low rank edges. Instead of comparing against a random set of edges we use all edges that are not present in the original network to compare against.\n",
    "\n",
    "Write a function `cross_val_mir(G, func, n_folds, random_state)` that computes the mean inverse ranks for function `func` assume that the function takes a binary adjacency matrix and no other parameter. G is an undirected networkx graph. Use n_folds cross validation on the edge set (default for n should be 10). Use np.array_split to split the edges in G into the n chunks. Return a list of mean inverse ranks. The i-th element of the list corresponds to leaving the i-th chunk of edges out for testing.\n",
    "\n",
    "\n",
    "We treat edges that have equal score as occupying 1 rank. i.e.\n",
    "```\n",
    "edges_to_score = [(1,2) : 0.5, (2,3) : 0.5, (4,5) : 0.24, (1,6) : 0.2]\n",
    "# implies\n",
    "edges_to_rank = [(1,2) : 1, (2,3) : 1, (4,5) : 2, (1,6) : 3]\n",
    "```\n"
   ]
  },
  {
   "cell_type": "code",
   "execution_count": 43,
   "metadata": {},
   "outputs": [],
   "source": [
    "from typing import List"
   ]
  },
  {
   "cell_type": "code",
   "execution_count": 44,
   "metadata": {},
   "outputs": [],
   "source": [
    "import numpy as np\n",
    "\n",
    "def cross_val_mir(G_in : nx.Graph, func, n_folds=10, random_state=4) -> List:\n",
    "    edges = list(G_in.edges)\n",
    "    np.random.seed(random_state)\n",
    "    np.random.shuffle(edges)\n",
    "    edge_chunks = np.array_split(edges, n_folds)\n",
    "    # use the chunks that are defined above as the chunks for train test split\n",
    "    \n",
    "    res = []\n",
    "\n",
    "    for test_elem in range(n_folds):\n",
    "        test = edge_chunks[test_elem]\n",
    "        train = []\n",
    "        for elem in range(n_folds):\n",
    "            if(elem != test_elem):\n",
    "                train.append(edge_chunks[elem])\n",
    "        \n",
    "        adja_mat = np.zeros((G_in.number_of_nodes(), G_in.number_of_nodes()))\n",
    "        for elem in train:\n",
    "            adja_mat[elem[:,0], elem[:,1]] = 1\n",
    "            adja_mat[elem[:,1], elem[:,0]] = 1\n",
    "        \n",
    "        link_mat = func(adja_mat.astype(bool))\n",
    "    \n",
    "        for elem in train:\n",
    "            for edge in elem:\n",
    "                link_mat[tuple(edge)] = 0\n",
    "                link_mat[tuple(edge[::-1])] = 0\n",
    "         \n",
    "        rank_mat = np.zeros((G_in.number_of_nodes(), G_in.number_of_nodes()), int)\n",
    "        max_value = np.amax(link_mat) + 1\n",
    "        rank = 1\n",
    "        while link_mat[link_mat < max_value].size:\n",
    "            max_value = np.amax(link_mat[link_mat < max_value])\n",
    "            indices = np.where(link_mat == max_value)\n",
    "            for index in range(len(indices[0])):\n",
    "                rank_mat[indices[0][index], indices[1][index]] = rank\n",
    "            rank += 1\n",
    "        \n",
    "        res.append((1/(rank_mat[test[:,0], test[:,1]])).mean())\n",
    "        \n",
    "        #val = dict()\n",
    "        #for i, k in test:\n",
    "        #    val[(i, k)] = rank_mat[i, k]\n",
    "        #print(test_elem, val)\n",
    "\n",
    "    return res"
   ]
  },
  {
   "cell_type": "code",
   "execution_count": 45,
   "metadata": {
    "scrolled": false
   },
   "outputs": [
    {
     "data": {
      "text/plain": [
       "[0.0739802240369391,\n",
       " 0.049372034969861055,\n",
       " 0.05476793787935092,\n",
       " 0.050986747288742196,\n",
       " 0.08355881254681563,\n",
       " 0.06830698116276863,\n",
       " 0.22025462962962963,\n",
       " 0.18560331401879576,\n",
       " 0.04309854209883187,\n",
       " 0.13160919540229882]"
      ]
     },
     "execution_count": 45,
     "metadata": {},
     "output_type": "execute_result"
    }
   ],
   "source": [
    "cross_val_mir(nx.karate_club_graph(), Adamic_link)\n",
    "\n",
    "# heldout edges and the rank obtained for them for validation round i\n",
    "# 0 {(15, 33): 37, (26, 33): 29, (23, 32): 20, (15, 32): 37, (0, 21): 33, (2, 8): 27, (30, 33): 19, (2, 3): 3}\n",
    "# 1 {(2, 27): 35, (0, 5): 23, (1, 13): 13, (28, 33): 30, (8, 33): 18, (0, 6): 23, (5, 6): 12, (14, 33): 33}\n",
    "# 2 {(8, 30): 20, (1, 17): 26, (0, 12): 23, (0, 19): 24, (0, 8): 25, (0, 7): 8, (26, 29): 27, (24, 31): 16}\n",
    "# 3 {(0, 13): 10, (5, 16): 31, (1, 21): 36, (1, 7): 24, (25, 31): 26, (0, 17): 33, (1, 2): 9, (2, 9): 38}\n",
    "# 4 {(20, 33): 24, (2, 7): 7, (4, 6): 25, (1, 3): 4, (2, 32): 22, (3, 13): 17, (0, 31): 27, (23, 29): 19}\n",
    "# 5 {(2, 13): 9, (13, 33): 34, (3, 12): 33, (23, 33): 5, (6, 16): 27, (3, 7): 13, (1, 30): 34, (18, 33): 31}\n",
    "# 6 {(0, 10): 10, (2, 28): 32, (32, 33): 1, (0, 3): 2, (20, 32): 32, (24, 27): 32, (29, 32): 27, (22, 33): 32}\n",
    "# 7 {(1, 19): 38, (27, 33): 31, (0, 1): 1, (0, 4): 4, (19, 33): 38, (8, 32): 11, (24, 25): 32, (5, 10): 36}\n",
    "# 8 {(9, 33): 29, (30, 32): 15, (4, 10): 28, (23, 25): 29, (31, 32): 29, (31, 33): 17, (23, 27): 27}\n",
    "# 9 {(0, 11): 30, (18, 32): 29, (29, 33): 4, (0, 2): 2, (28, 31): 29, (22, 32): 29, (14, 32): 29}\n",
    "\n",
    "\n",
    "#output\n",
    "#[0.07398022, 0.04937203, 0.05476794, 0.05098675, 0.08355881,\n",
    "#       0.06830698, 0.22025463, 0.18560331, 0.04309854, 0.1316092 ]"
   ]
  },
  {
   "cell_type": "code",
   "execution_count": 46,
   "metadata": {
    "scrolled": false
   },
   "outputs": [
    {
     "data": {
      "text/plain": [
       "[0.051040661479902966,\n",
       " 0.0650220723438041,\n",
       " 0.08408332704671378,\n",
       " 0.07705176767676766,\n",
       " 0.1054484577922078,\n",
       " 0.13231224113577056,\n",
       " 0.051758930954902825,\n",
       " 0.08718925070028011,\n",
       " 0.057801228645817875,\n",
       " 0.04778885373312618]"
      ]
     },
     "execution_count": 46,
     "metadata": {},
     "output_type": "execute_result"
    }
   ],
   "source": [
    "cross_val_mir(nx.karate_club_graph(), Jaccard_link)\n",
    "\n",
    "# heldout edges and the rank obtained for them for validation round i\n",
    "# 0 {(15, 33): 38, (26, 33): 33, (23, 32): 19, (15, 32): 38, (0, 21): 34, (2, 8): 17, (30, 33): 24, (2, 3): 7}\n",
    "# 1 {(2, 27): 31, (0, 5): 27, (1, 13): 7, (28, 33): 27, (8, 33): 19, (0, 6): 27, (5, 6): 7, (14, 33): 26}\n",
    "# 2 {(8, 30): 5, (1, 17): 19, (0, 12): 23, (0, 19): 24, (0, 8): 26, (0, 7): 10, (26, 29): 8, (24, 31): 14}\n",
    "# 3 {(0, 13): 14, (5, 16): 7, (1, 21): 16, (1, 7): 9, (25, 31): 16, (0, 17): 28, (1, 2): 10, (2, 9): 33}\n",
    "# 4 {(20, 33): 28, (2, 7): 6, (4, 6): 11, (1, 3): 7, (2, 32): 30, (3, 13): 7, (0, 31): 32, (23, 29): 5}\n",
    "# 5 {(2, 13): 7, (13, 33): 34, (3, 12): 10, (23, 33): 13, (6, 16): 7, (3, 7): 2, (1, 30): 34, (18, 33): 27}\n",
    "# 6 {(0, 10): 23, (2, 28): 34, (32, 33): 8, (0, 3): 11, (20, 32): 34, (24, 27): 34, (29, 32): 27, (22, 33): 34}\n",
    "# 7 {(1, 19): 32, (27, 33): 30, (0, 1): 5, (0, 4): 17, (19, 33): 32, (8, 32): 10, (24, 25): 7, (5, 10): 10}\n",
    "# 8 {(9, 33): 31, (30, 32): 14, (4, 10): 8, (23, 25): 31, (31, 32): 31, (31, 33): 29, (23, 27): 13}\n",
    "# 9 {(0, 11): 34, (18, 32): 25, (29, 33): 18, (0, 2): 13, (28, 31): 19, (22, 32): 25, (14, 32): 25}\n",
    "\n",
    "\n",
    "\n",
    "#[0.05104066, 0.06502207, 0.08408333, 0.07705177, 0.10544846,\n",
    "#       0.13231224, 0.05175893, 0.08718925, 0.05780123, 0.04778885]"
   ]
  },
  {
   "cell_type": "code",
   "execution_count": null,
   "metadata": {},
   "outputs": [],
   "source": []
  }
 ],
 "metadata": {
  "kernelspec": {
   "display_name": "Python 3",
   "language": "python",
   "name": "python3"
  },
  "language_info": {
   "codemirror_mode": {
    "name": "ipython",
    "version": 3
   },
   "file_extension": ".py",
   "mimetype": "text/x-python",
   "name": "python",
   "nbconvert_exporter": "python",
   "pygments_lexer": "ipython3",
   "version": "3.7.9"
  }
 },
 "nbformat": 4,
 "nbformat_minor": 2
}
