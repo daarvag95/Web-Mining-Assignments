{
 "cells": [
  {
   "cell_type": "markdown",
   "metadata": {},
   "source": [
    "# Web-Mining - Assignment 4 (12 points total)\n",
    "\n",
    "This **Home Assignment** is to be submitted and you will be given points for each of the tasks. This task is all about time series. You will first write a function that gets the viewcount as a function of time for wikipedia articles. You will then go ahead and try to find viewcount histories that show interesting behaviour. Finally you are asked to implement single exponential and holtz smoothing.\n",
    "You can use the numpy, requests and all of the standard library.\n",
    "\n",
    "## Formalities\n",
    "**Submit in a group of 3-4 people until 13.07.2021 23:59CET. The deadline is strict!**\n",
    "\n",
    "## Evaluation and Grading\n",
    "General advice for programming excercises at *CSSH*:\n",
    "Evaluation of your submission is done semi automatically. Think of it as this notebook being \n",
    "executed once. Afterwards, some test functions are appended to this file and executed respectively.\n",
    "\n",
    "Therefore:\n",
    "* Submit valid _Python3_ code only!\n",
    "* Use external libraries only when specified by task.\n",
    "* Ensure your definitions (functions, classes, methods, variables) follow the specification if\n",
    "  given. The concrete signature of e.g. a function usually can be inferred from task description, \n",
    "  code skeletons and test cases.\n",
    "* Ensure the notebook does not rely on current notebook or system state!\n",
    "  * Use `Kernel --> Restart & Run All` to see if you are using any definitions, variables etc. that \n",
    "    are not in scope anymore.\n",
    "  * Double check if your code relies on presence of files or directories other than those mentioned\n",
    "    in given tasks. Tests run under Linux, hence don't use Windows style paths \n",
    "    (`some\\path`, `C:\\another\\path`). Also, use paths only that are relative to and within your\n",
    "    working directory (OK: `some/path`, `./some/path`; NOT OK: `/home/alice/python`, \n",
    "    `../../python`).\n",
    "* Keep your code idempotent! Running it or parts of it multiple times must not yield different\n",
    "  results. Minimize usage of global variables.\n",
    "* Ensure your code / notebook terminates in reasonable time.\n",
    "\n",
    "**There's a story behind each of these points! Don't expect us to fix your stuff!**\n",
    "\n",
    "Regarding the scores, you will get no points for a task if:\n",
    "- your function throws an unexpected error (e.g. takes the wrong number of arguments)\n",
    "- gets stuck in an infinite loop\n",
    "- takes much much longer than expected (e.g. >1s to compute the mean of two numbers)\n",
    "- does not produce the desired output (e.g. returns an descendingly sorted list even though we asked for ascending, returns the mean and the std even though we asked for only the mean, prints an output instead of returning it, ...)"
   ]
  },
  {
   "cell_type": "code",
   "execution_count": 1,
   "metadata": {},
   "outputs": [],
   "source": [
    "# credentials of all team members (you may add or remove items from the dictionary)\n",
    "team_members = [\n",
    "    {\n",
    "        'first_name': 'Pruthvi',\n",
    "        'last_name': 'Hegde',\n",
    "        'student_id': 404809\n",
    "    },\n",
    "    {\n",
    "        'first_name': 'Mike',\n",
    "        'last_name': 'Grüne',\n",
    "        'student_id': 381076\n",
    "    },\n",
    "    {\n",
    "        'first_name': 'Seyed Pouria',\n",
    "        'last_name': 'Mirelmi',\n",
    "        'student_id': 416910\n",
    "    },\n",
    "    {\n",
    "        'first_name': 'Haron',\n",
    "        'last_name': 'Nqiri',\n",
    "        'student_id': 343289\n",
    "    }\n",
    "]"
   ]
  },
  {
   "cell_type": "markdown",
   "metadata": {},
   "source": [
    "# Task 1: Time series (12 points total)\n",
    "\n",
    "## a) Fetching wikipedia view counts (3)\n",
    "\n",
    "Write a function `get_counts(title, start, end, language_edition=\"en\")` that takes in the title of a wikipedia page, a starting date and an ending date, as well as an optional language edition for that particular title. `start` and `end` are supplied as python `date` objects.\n",
    "\n",
    "It returns the timestamps (as a list of `date` objects) and the view counts (as a list of integers) for that particular article in the given timespan. If there are errors when retrieving the data return empty lists. Return them lower incluse, upper inclusive.\n",
    "\n",
    "Link example for Albert Einstein retrieving from the first of november 2017 up to the 30 november 2018: 'https://wikimedia.org/api/rest_v1/metrics/pageviews/per-article/en.wikipedia/all-access/all-agents/Albert_Einstein/daily/20171101/20181130'."
   ]
  },
  {
   "cell_type": "code",
   "execution_count": 2,
   "metadata": {},
   "outputs": [],
   "source": [
    "from typing import List\n",
    "from datetime import date\n",
    "import requests\n",
    "from time import sleep\n",
    "import urllib\n",
    "import json\n",
    "import datetime"
   ]
  },
  {
   "cell_type": "code",
   "execution_count": 3,
   "metadata": {},
   "outputs": [],
   "source": [
    "def get_counts(title : str, start : date, end : date, language_edition=\"en\", sleep_duration=1) -> (List[date], List[int]):\n",
    "    sleep(sleep_duration)# please use sleep so as to not flood wikimedia with requests\n",
    "    start_date = str(start).replace(\"-\",\"\")\n",
    "    end_date = str(end).replace(\"-\",\"\")\n",
    "    \n",
    "    url = \"https://wikimedia.org/api/rest_v1/metrics/pageviews/per-article/\" + language_edition + \".wikipedia/all-access/all-agents/\" + title +\"/daily/\" + start_date + \"/\" + end_date \n",
    "    try:\n",
    "        req = urllib.request.Request(url)\n",
    "        with urllib.request.urlopen(req) as response:\n",
    "            page = response.read()\n",
    "        res = json.loads(page)\n",
    "        timestamp = [datetime.datetime.strptime(r['timestamp'][0:8], \"%Y%m%d\").date() for r in res['items']]\n",
    "        \n",
    "        view_counts = [r['views'] for r in res['items']]\n",
    "        return timestamp, view_counts\n",
    "    except urllib.error.URLError as e:\n",
    "        return [],[]\n",
    "    \n",
    "    "
   ]
  },
  {
   "cell_type": "code",
   "execution_count": 4,
   "metadata": {
    "scrolled": true
   },
   "outputs": [
    {
     "name": "stdout",
     "output_type": "stream",
     "text": [
      "([datetime.date(2018, 11, 30), datetime.date(2018, 12, 1), datetime.date(2018, 12, 2), datetime.date(2018, 12, 3)], [17631, 14710, 16126, 17995])\n",
      "([datetime.date(2018, 12, 30), datetime.date(2018, 12, 31), datetime.date(2019, 1, 1), datetime.date(2019, 1, 2), datetime.date(2019, 1, 3)], [1090, 783, 732, 790, 842])\n",
      "([], [])\n",
      "([], [])\n",
      "([], [])\n"
     ]
    }
   ],
   "source": [
    "\n",
    "s = date(2018,11,30)\n",
    "e = date(2018,12,3)\n",
    "print(get_counts(\"Albert_Einstein\",s,e))\n",
    "#([datetime.date(2018, 11, 30),\n",
    "#  datetime.date(2018, 12, 1),\n",
    "#  datetime.date(2018, 12, 2),\n",
    "#  datetime.date(2018, 12, 3)],\n",
    "# [17631, 14710, 16126, 17995])\n",
    "\n",
    "s = date(2018,12,30)\n",
    "e = date(2019, 1,3)\n",
    "print(get_counts(\"Bier\",s,e, \"de\"))\n",
    "#([datetime.date(2018, 12, 30),\n",
    "# datetime.date(2018, 12, 31),\n",
    "# datetime.date(2019, 1, 1),\n",
    "# datetime.date(2019, 1, 2),\n",
    "# datetime.date(2019, 1, 3)], \n",
    "# [1090, 783, 732, 790, 842])\n",
    "\n",
    "\n",
    "s = date(2010,12,30)\n",
    "e = date(2011, 1,3)\n",
    "print(get_counts(\"Albert_Einstein\",s,e))\n",
    "# error case\n",
    "# [], []\n",
    "\n",
    "s = date(2019,12,30)\n",
    "e = date(2019, 1, 3)\n",
    "print(get_counts(\"Albert_Einstein\",s,e))\n",
    "# error case\n",
    "# [], []\n",
    "\n",
    "s = date(2019,12,30)\n",
    "e = date(2020, 1, 3)\n",
    "print(get_counts(\"asdjhsalkjhdkash\",s,e))\n",
    "# error case\n",
    "# [], []"
   ]
  },
  {
   "cell_type": "markdown",
   "metadata": {},
   "source": [
    "## b) Experimentation (1+1.5+1.5 = 4)\n",
    "\n",
    "Find combinations of `(title, start, end, language_edition)` such that when plotted you can clearly see\n",
    "\n",
    "1) There is no clear seasonality or periodicity (`nothing.png`)\n",
    "\n",
    "2) There is a clear seasonality (`seasonality.png`)\n",
    "\n",
    "3) There is clearly is something repetitive but it is not seasonality (`repetitive.png`)\n",
    "\n",
    "Save plots of the three different kinds of time series under their corresponding names.\n",
    "For the seasonality plot also show the length of one period in the plot. Use a different article for each of the tasks. To have good enough statistics, make sure there are at least ~100 views per day.\n",
    "Put the article title and the language edition in the title of the plot."
   ]
  },
  {
   "cell_type": "code",
   "execution_count": 5,
   "metadata": {},
   "outputs": [],
   "source": [
    "import matplotlib.pyplot as plt"
   ]
  },
  {
   "cell_type": "code",
   "execution_count": 6,
   "metadata": {},
   "outputs": [],
   "source": [
    "s = date(2018,1,1)\n",
    "e = date(2020, 12, 31)\n",
    "dates,counts = get_counts(\"Albert_Einstein\",s,e, \"en\")\n",
    "fig_nothing = plt.figure(figsize=(12,12), facecolor=(1, 1, 1))\n",
    "plt.plot(dates, counts)\n",
    "plt.title(\"Albert_Einstein, en\")\n",
    "plt.xlabel(\"Date\")\n",
    "plt.ylabel(\"View count\")\n",
    "plt.savefig(\"nothing.png\")\n",
    "plt.close()"
   ]
  },
  {
   "cell_type": "code",
   "execution_count": 7,
   "metadata": {},
   "outputs": [],
   "source": [
    "s = date(2018,1,1)\n",
    "e = date(2020, 12, 31)\n",
    "dates,counts = get_counts(\"Sunburn\",s,e, \"en\")\n",
    "fig_seasonality = plt.figure(figsize=(12,12), facecolor=(1, 1, 1))\n",
    "plt.plot(dates, counts)\n",
    "plt.title(\"Sunburn, en\")\n",
    "plt.xlabel(\"Date\")\n",
    "plt.ylabel(\"View count\")\n",
    "plt.axvspan(date(2018,1,1), date(2018,12,31), color='red', alpha=0.5)\n",
    "plt.axvspan(date(2019,1,1), date(2019,12,31), color='green', alpha=0.5)\n",
    "plt.axvspan(date(2020,1,1), date(2020,12,31), color='blue', alpha=0.5)\n",
    "plt.savefig(\"seasonality.png\")\n",
    "plt.close()"
   ]
  },
  {
   "cell_type": "code",
   "execution_count": null,
   "metadata": {},
   "outputs": [],
   "source": []
  },
  {
   "cell_type": "markdown",
   "metadata": {},
   "source": [
    "## c) Time Series prediction (single exponential) (2)\n",
    "\n",
    "Write a function `single_exponential_smoothing(values, h, alpha)` that performs time series prediction/forecast for the next 1..h time-steps using single exponential smoothing with parameter `alpha`. Initialialise l_0 = `values[0]`."
   ]
  },
  {
   "cell_type": "code",
   "execution_count": 8,
   "metadata": {},
   "outputs": [],
   "source": [
    "import numpy as np"
   ]
  },
  {
   "cell_type": "code",
   "execution_count": 9,
   "metadata": {},
   "outputs": [],
   "source": [
    "def single_exponential_smoothing(values : List[float], h : int, alpha : float) -> List[float]:\n",
    "    \n",
    "    l = [values[0]]\n",
    "    \n",
    "    for i in range(len(values)-1):\n",
    "        \n",
    "        l.append(alpha * values[i+1] + (1 - alpha) * (l[i]))\n",
    "    \n",
    "    return_list = []\n",
    "    \n",
    "    for i in range(h):\n",
    "        return_list.append (l[-1])\n",
    "    \n",
    "    return return_list"
   ]
  },
  {
   "cell_type": "code",
   "execution_count": 10,
   "metadata": {},
   "outputs": [
    {
     "name": "stdout",
     "output_type": "stream",
     "text": [
      "[3.125, 3.125]\n",
      "[2.5032999999999994, 2.5032999999999994]\n",
      "[0.5173425352401494, 0.5173425352401494, 0.5173425352401494, 0.5173425352401494]\n"
     ]
    }
   ],
   "source": [
    "print(single_exponential_smoothing([1,2,3,4], 2, 0.5))\n",
    "# l = [1, 1.5, 2.25, 3.125]\n",
    "# [3.125, 3.125]\n",
    "print(single_exponential_smoothing([1,1.9,3.1,4.1], 2, 0.3))\n",
    "# l = [1, 1.27, 1.819, 2.5032999999999994]\n",
    "# [2.5032999999999994, 2.5032999999999994]\n",
    "print(single_exponential_smoothing(list(np.sin(np.linspace(0,3))), 4, 0.1))\n",
    "# [0.5173425352401494, 0.5173425352401494, 0.5173425352401494, 0.5173425352401494]"
   ]
  },
  {
   "cell_type": "markdown",
   "metadata": {},
   "source": [
    "## d) Time Series prediction (Holts) (3)\n",
    "\n",
    "Write a function `holts_smoothing(values, h, alpha, beta)` that performs time series prediction/forecast for the next 1..h time-steps using Holts smoothing with parameters `alpha` and `beta`. Initialialise l_0 = `values[0]` and b_0 = `values[1] - values[0]`."
   ]
  },
  {
   "cell_type": "code",
   "execution_count": 11,
   "metadata": {},
   "outputs": [],
   "source": [
    "def holts_smoothing(values : List[float], h : int, alpha : float, beta : float) -> List[float]:\n",
    "    l = [values[0]]\n",
    "    b = [values[1] - values[0]]\n",
    "    result_list = []\n",
    "    for i in range(len(values) - 1):\n",
    "        l.append(alpha * values[i+1] + (1 - alpha) * (l[i] + b[i]))\n",
    "        b.append(beta * (l[i+1] - l[i]) + (1 - beta) * b[i])\n",
    "    for i in range(h):\n",
    "        result_list.append(l[len(values) - 1] + (i+1) * b[len(values) - 1])\n",
    "    return result_list"
   ]
  },
  {
   "cell_type": "code",
   "execution_count": 12,
   "metadata": {},
   "outputs": [
    {
     "name": "stdout",
     "output_type": "stream",
     "text": [
      "[5.0, 6.0]\n",
      "[4.854369999999999, 5.806839999999999]\n",
      "[0.09857994080989951, 0.035351062398172095, -0.027877816013555323, -0.09110669442528274]\n"
     ]
    }
   ],
   "source": [
    "print(holts_smoothing([1,2,3,4], 2, 0.5, 0.5))\n",
    "# [5.0, 6.0]\n",
    "# l=[1, 2.0, 3.0, 4.0]\n",
    "# b=[1, 1.0, 1.0, 1.0]\n",
    "print(holts_smoothing([1,1.9,3.1,4.1], 2, 0.3, 0.3))\n",
    "# [4.854369999999999, 5.806839999999999]\n",
    "# l= [1, 1.9, 2.8899999999999997, 3.9018999999999995]\n",
    "# b= [0.8999999999999999, 0.8999999999999999, 0.9269999999999998, 0.9524699999999997]\n",
    "print(holts_smoothing(list(np.sin(np.linspace(0,3))), 4, 0.1, 0.5))\n",
    "# [0.09857994080989951, 0.035351062398172095, -0.027877816013555323, -0.09110669442528274]"
   ]
  },
  {
   "cell_type": "code",
   "execution_count": null,
   "metadata": {},
   "outputs": [],
   "source": []
  },
  {
   "cell_type": "code",
   "execution_count": null,
   "metadata": {},
   "outputs": [],
   "source": []
  },
  {
   "cell_type": "code",
   "execution_count": null,
   "metadata": {},
   "outputs": [],
   "source": []
  },
  {
   "cell_type": "code",
   "execution_count": null,
   "metadata": {},
   "outputs": [],
   "source": []
  },
  {
   "cell_type": "code",
   "execution_count": null,
   "metadata": {},
   "outputs": [],
   "source": []
  },
  {
   "cell_type": "code",
   "execution_count": null,
   "metadata": {},
   "outputs": [],
   "source": []
  }
 ],
 "metadata": {
  "kernelspec": {
   "display_name": "Python 3",
   "language": "python",
   "name": "python3"
  },
  "language_info": {
   "codemirror_mode": {
    "name": "ipython",
    "version": 3
   },
   "file_extension": ".py",
   "mimetype": "text/x-python",
   "name": "python",
   "nbconvert_exporter": "python",
   "pygments_lexer": "ipython3",
   "version": "3.8.5"
  }
 },
 "nbformat": 4,
 "nbformat_minor": 4
}
